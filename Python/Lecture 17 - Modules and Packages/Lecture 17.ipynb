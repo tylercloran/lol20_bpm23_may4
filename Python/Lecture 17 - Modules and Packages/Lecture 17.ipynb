{
 "cells": [
  {
   "cell_type": "markdown",
   "metadata": {},
   "source": [
    "# Beginner Python and Math for Data Science\n",
    "## Lecture 17\n",
    "### Modules and Packages"
   ]
  },
  {
   "cell_type": "markdown",
   "metadata": {},
   "source": [
    "__Purpose:__\n",
    "The purpose of this lecture is to understand how modules and packages work in Python. \n",
    "\n",
    "__At the end of this lecture you will be able to:__\n",
    "1. Understand the definition of modules and packages\n",
    "2. Understand how to import the modules and packages"
   ]
  },
  {
   "cell_type": "markdown",
   "metadata": {},
   "source": [
    "### 1.1 Modules:"
   ]
  },
  {
   "cell_type": "markdown",
   "metadata": {},
   "source": [
    "### 1.1.1 What is a Module?"
   ]
  },
  {
   "cell_type": "markdown",
   "metadata": {},
   "source": [
    "__Overview:__\n",
    "- A [__Module__](https://docs.python.org/3/tutorial/modules.html) is a file containing Python definitions and statements. You can think of a Module as a Python file (file extension `.py`) with a bunch of Python code (variables, functions, etc.) \n",
    "- Each __Jupyter Notebook Document__ is its own \"session\" and when you close a file, you can no longer access its statements (i.e. variables) and definitions (i.e. functions). For example, in this document we can't load in any variables from Lectures 1 or 2\n",
    "- Therefore, we need a way of saving code in a file and importing the file into our current session without having to physically copy and paste all the code again - this would allow us to access the statements and definitions of that file within our current session \n",
    "\n",
    "__Helpful Points:__\n",
    "1. In order to import a module into your current session, the module has to be in the same directory as the file you are trying to import from \n",
    "2. Python already has created an extensive list of modules known as the __[Standard Modules](https://docs.python.org/3/py-modindex.html#cap-s)__ which can be imported into any document \n",
    "\n",
    "__Practice:__ Examples of Creating Modules in Python "
   ]
  },
  {
   "cell_type": "markdown",
   "metadata": {},
   "source": [
    "### Example 1 (Creating Modules):\n",
    "\n",
    "In addition to the Modules that Python has already created, we can also create our own modules and then import them into our session. Steps for creating a module:\n",
    "\n",
    "> 1. Create a Python script (either from a text editor or converting a Jupyter Notebook Document into a `.py` file) with some statements and definitions (see the `fibo.ipynb` file and select File -> Downloas as -> Python (.py)) \n",
    "> 2. Save this Python script into the same directory as your current session's directory (save `fibo.py` in your current directory) "
   ]
  },
  {
   "cell_type": "markdown",
   "metadata": {},
   "source": [
    "### 1.1.2 Importing Modules:"
   ]
  },
  {
   "cell_type": "markdown",
   "metadata": {},
   "source": [
    "__Overview:__\n",
    "- There are many ways to actually import modules into Python:\n",
    "> 1. __Method 1:__ Import the entire module all at once: `import module_name` \n",
    "> 2. __Method 2:__ Import specific names from a module: `from module_name import func_1`. If there are additional names in the module other than `func_`, they will not be loaded in \n",
    "> 3. __Method 3:__ Import all names from a module (not encouraged since it may conflict with the names of the existing objects in your current environment): `from module_name import *` \n",
    "> 4. __Method 4:__ Import module with an alias: `import module_name as module_name_new`. Same as Method 1, but the module has to be referred to by its new name. You can also import a name within a module as an alias: `from module_name as func_name_new`.  \n",
    "\n",
    "__Helpful Points:__\n",
    "1. After importing a module, you can always use the `dir(module_name)` function on a module to find out what names are defined by that module (i.e. what functions did you load in when importing the file )\n",
    "2. At any time, you can use the `dir()` function with no input to find out what names you have currently defined in your session (i.e. variables, modules, functions, etc.)\n",
    "3. To access the functions within a module, use the same notation we did with methods (`module_name.func_name()`)\n",
    "\n",
    "__Practice:__ Examples of Importing Modules in Python"
   ]
  },
  {
   "cell_type": "markdown",
   "metadata": {},
   "source": [
    "### Part 1 (Importing the `fibo` module):"
   ]
  },
  {
   "cell_type": "markdown",
   "metadata": {},
   "source": [
    "Note: This is what the `fibo` module actually looks like. You don't have to run the cell below, it is provided only to illustrate the purpose of the file. "
   ]
  },
  {
   "cell_type": "code",
   "execution_count": null,
   "metadata": {},
   "outputs": [],
   "source": [
    "# Fibonacci numbers module\n",
    "\n",
    "#def fib(n):    # write Fibonacci series up to n\n",
    "#    a, b = 0, 1\n",
    "#    while b < n:\n",
    "#        print(b, end=' ')\n",
    "#        a, b = b, a+b\n",
    "#    print()\n",
    "\n",
    "#def fib2(n):   # return Fibonacci series up to n\n",
    "#    result = []\n",
    "#    a, b = 0, 1\n",
    "#    while b < n:\n",
    "#        result.append(b)\n",
    "#        a, b = b, a+b\n",
    "#    return result"
   ]
  },
  {
   "cell_type": "markdown",
   "metadata": {},
   "source": [
    "### Example 1.1 (Importing using Method 1):"
   ]
  },
  {
   "cell_type": "code",
   "execution_count": 1,
   "metadata": {
    "scrolled": false
   },
   "outputs": [
    {
     "name": "stdout",
     "output_type": "stream",
     "text": [
      "No variables match your requested type.\n"
     ]
    }
   ],
   "source": [
    "%whos # check what variables are in our namespace "
   ]
  },
  {
   "cell_type": "code",
   "execution_count": 2,
   "metadata": {},
   "outputs": [],
   "source": [
    "import fibo"
   ]
  },
  {
   "cell_type": "code",
   "execution_count": 3,
   "metadata": {},
   "outputs": [
    {
     "name": "stdout",
     "output_type": "stream",
     "text": [
      "Variable   Type      Data/Info\n",
      "------------------------------\n",
      "fibo       module    <module 'fibo' from '/Use<...>CP/BPM/Lectures/fibo.py'>\n"
     ]
    }
   ],
   "source": [
    "%whos # method 1 does not enter the names of the functions defined in fibo module directly, it only enters the module name"
   ]
  },
  {
   "cell_type": "code",
   "execution_count": 4,
   "metadata": {
    "scrolled": false
   },
   "outputs": [
    {
     "data": {
      "text/plain": [
       "['__builtins__',\n",
       " '__cached__',\n",
       " '__doc__',\n",
       " '__file__',\n",
       " '__loader__',\n",
       " '__name__',\n",
       " '__package__',\n",
       " '__spec__',\n",
       " 'fib',\n",
       " 'fib2']"
      ]
     },
     "execution_count": 4,
     "metadata": {},
     "output_type": "execute_result"
    }
   ],
   "source": [
    "dir(fibo)"
   ]
  },
  {
   "cell_type": "code",
   "execution_count": 5,
   "metadata": {},
   "outputs": [
    {
     "name": "stdout",
     "output_type": "stream",
     "text": [
      "1 1 2 3 5 8 13 21 34 55 89 \n"
     ]
    }
   ],
   "source": [
    "# now we can use the functions inside the fibo module \n",
    "fibo.fib(100) # function writes the Fibonacci series up to n "
   ]
  },
  {
   "cell_type": "code",
   "execution_count": 6,
   "metadata": {
    "scrolled": true
   },
   "outputs": [
    {
     "name": "stdout",
     "output_type": "stream",
     "text": [
      "[1, 1, 2, 3, 5, 8, 13, 21, 34, 55, 89]\n"
     ]
    }
   ],
   "source": [
    "fib_series = fibo.fib2(100) # function returns the Fibonacci series up to n \n",
    "print(fib_series)"
   ]
  },
  {
   "cell_type": "markdown",
   "metadata": {},
   "source": [
    "### Example 1.2 (Importing using Method 2):"
   ]
  },
  {
   "cell_type": "code",
   "execution_count": 9,
   "metadata": {
    "scrolled": false
   },
   "outputs": [
    {
     "name": "stdout",
     "output_type": "stream",
     "text": [
      "Once deleted, variables cannot be recovered. Proceed (y/[n])? y\n"
     ]
    },
    {
     "name": "stderr",
     "output_type": "stream",
     "text": [
      "ERROR:root:Invalid alias: The name clear can't be aliased because it is another magic command.\n",
      "ERROR:root:Invalid alias: The name more can't be aliased because it is another magic command.\n",
      "ERROR:root:Invalid alias: The name less can't be aliased because it is another magic command.\n",
      "ERROR:root:Invalid alias: The name man can't be aliased because it is another magic command.\n"
     ]
    }
   ],
   "source": [
    "%reset"
   ]
  },
  {
   "cell_type": "code",
   "execution_count": 10,
   "metadata": {},
   "outputs": [],
   "source": [
    "from fibo import fib # only the fib function is imported and not the fib2 function "
   ]
  },
  {
   "cell_type": "code",
   "execution_count": 11,
   "metadata": {
    "scrolled": true
   },
   "outputs": [
    {
     "name": "stdout",
     "output_type": "stream",
     "text": [
      "Variable   Type        Data/Info\n",
      "--------------------------------\n",
      "fib        function    <function fib at 0x104673ea0>\n"
     ]
    }
   ],
   "source": [
    "%whos # method 2 does not enter the name of the module directly, it only enters the name of the function "
   ]
  },
  {
   "cell_type": "code",
   "execution_count": 12,
   "metadata": {},
   "outputs": [
    {
     "ename": "NameError",
     "evalue": "name 'fibo' is not defined",
     "output_type": "error",
     "traceback": [
      "\u001b[0;31m---------------------------------------------------------------------------\u001b[0m",
      "\u001b[0;31mNameError\u001b[0m                                 Traceback (most recent call last)",
      "\u001b[0;32m<ipython-input-12-d0647c02f311>\u001b[0m in \u001b[0;36m<module>\u001b[0;34m\u001b[0m\n\u001b[0;32m----> 1\u001b[0;31m \u001b[0mdir\u001b[0m\u001b[0;34m(\u001b[0m\u001b[0mfibo\u001b[0m\u001b[0;34m)\u001b[0m \u001b[0;31m# see above, the fibo module is not in our namespace\u001b[0m\u001b[0;34m\u001b[0m\u001b[0;34m\u001b[0m\u001b[0m\n\u001b[0m",
      "\u001b[0;31mNameError\u001b[0m: name 'fibo' is not defined"
     ]
    }
   ],
   "source": [
    "dir(fibo) # see above, the fibo module is not in our namespace "
   ]
  },
  {
   "cell_type": "code",
   "execution_count": 13,
   "metadata": {},
   "outputs": [
    {
     "name": "stdout",
     "output_type": "stream",
     "text": [
      "1 1 2 3 5 8 13 21 34 55 89 \n"
     ]
    }
   ],
   "source": [
    "# now we can use the function as if it was a stand alone function \n",
    "fib(100) # function writes the Fibonacci series up to n "
   ]
  },
  {
   "cell_type": "code",
   "execution_count": 14,
   "metadata": {
    "scrolled": true
   },
   "outputs": [
    {
     "ename": "NameError",
     "evalue": "name 'fib2' is not defined",
     "output_type": "error",
     "traceback": [
      "\u001b[0;31m---------------------------------------------------------------------------\u001b[0m",
      "\u001b[0;31mNameError\u001b[0m                                 Traceback (most recent call last)",
      "\u001b[0;32m<ipython-input-14-affdd321777f>\u001b[0m in \u001b[0;36m<module>\u001b[0;34m\u001b[0m\n\u001b[0;32m----> 1\u001b[0;31m \u001b[0mfib_series\u001b[0m \u001b[0;34m=\u001b[0m \u001b[0mfib2\u001b[0m\u001b[0;34m(\u001b[0m\u001b[0;36m100\u001b[0m\u001b[0;34m)\u001b[0m \u001b[0;31m# function is not in namespace\u001b[0m\u001b[0;34m\u001b[0m\u001b[0;34m\u001b[0m\u001b[0m\n\u001b[0m\u001b[1;32m      2\u001b[0m \u001b[0mprint\u001b[0m\u001b[0;34m(\u001b[0m\u001b[0mfib_series\u001b[0m\u001b[0;34m)\u001b[0m\u001b[0;34m\u001b[0m\u001b[0;34m\u001b[0m\u001b[0m\n",
      "\u001b[0;31mNameError\u001b[0m: name 'fib2' is not defined"
     ]
    }
   ],
   "source": [
    "fib_series = fib2(100) # function is not in namespace \n",
    "print(fib_series)"
   ]
  },
  {
   "cell_type": "markdown",
   "metadata": {},
   "source": [
    "### Example 1.3 (Importing using Method 3):"
   ]
  },
  {
   "cell_type": "code",
   "execution_count": 16,
   "metadata": {
    "scrolled": false
   },
   "outputs": [
    {
     "name": "stdout",
     "output_type": "stream",
     "text": [
      "Once deleted, variables cannot be recovered. Proceed (y/[n])? y\n"
     ]
    },
    {
     "name": "stderr",
     "output_type": "stream",
     "text": [
      "ERROR:root:Invalid alias: The name clear can't be aliased because it is another magic command.\n",
      "ERROR:root:Invalid alias: The name more can't be aliased because it is another magic command.\n",
      "ERROR:root:Invalid alias: The name less can't be aliased because it is another magic command.\n",
      "ERROR:root:Invalid alias: The name man can't be aliased because it is another magic command.\n"
     ]
    }
   ],
   "source": [
    "%reset"
   ]
  },
  {
   "cell_type": "code",
   "execution_count": 17,
   "metadata": {},
   "outputs": [],
   "source": [
    "from fibo import * # all the names from the fibo module are imported "
   ]
  },
  {
   "cell_type": "code",
   "execution_count": 18,
   "metadata": {
    "scrolled": true
   },
   "outputs": [
    {
     "name": "stdout",
     "output_type": "stream",
     "text": [
      "Variable   Type        Data/Info\n",
      "--------------------------------\n",
      "fib        function    <function fib at 0x104673ea0>\n",
      "fib2       function    <function fib2 at 0x104673d90>\n"
     ]
    }
   ],
   "source": [
    "%whos # method 3 also does not enter the name of the module directly, it only enters the names of the function that were laoded in"
   ]
  },
  {
   "cell_type": "code",
   "execution_count": 19,
   "metadata": {
    "scrolled": true
   },
   "outputs": [
    {
     "ename": "NameError",
     "evalue": "name 'fibo' is not defined",
     "output_type": "error",
     "traceback": [
      "\u001b[0;31m---------------------------------------------------------------------------\u001b[0m",
      "\u001b[0;31mNameError\u001b[0m                                 Traceback (most recent call last)",
      "\u001b[0;32m<ipython-input-19-d0647c02f311>\u001b[0m in \u001b[0;36m<module>\u001b[0;34m\u001b[0m\n\u001b[0;32m----> 1\u001b[0;31m \u001b[0mdir\u001b[0m\u001b[0;34m(\u001b[0m\u001b[0mfibo\u001b[0m\u001b[0;34m)\u001b[0m \u001b[0;31m# see above, the fibo module is not in our namespace\u001b[0m\u001b[0;34m\u001b[0m\u001b[0;34m\u001b[0m\u001b[0m\n\u001b[0m",
      "\u001b[0;31mNameError\u001b[0m: name 'fibo' is not defined"
     ]
    }
   ],
   "source": [
    "dir(fibo) # see above, the fibo module is not in our namespace "
   ]
  },
  {
   "cell_type": "code",
   "execution_count": 20,
   "metadata": {},
   "outputs": [
    {
     "name": "stdout",
     "output_type": "stream",
     "text": [
      "1 1 2 3 5 8 13 21 34 55 89 \n"
     ]
    }
   ],
   "source": [
    "fib(100) # function writes the Fibonacci series up to n "
   ]
  },
  {
   "cell_type": "code",
   "execution_count": 21,
   "metadata": {
    "scrolled": false
   },
   "outputs": [
    {
     "name": "stdout",
     "output_type": "stream",
     "text": [
      "[1, 1, 2, 3, 5, 8, 13, 21, 34, 55, 89]\n"
     ]
    }
   ],
   "source": [
    "fib_series = fib2(100) # function returns the Fibonacci series up to n \n",
    "print(fib_series)"
   ]
  },
  {
   "cell_type": "markdown",
   "metadata": {},
   "source": [
    "### Example 1.4 (Importing using Method 4):"
   ]
  },
  {
   "cell_type": "code",
   "execution_count": 22,
   "metadata": {},
   "outputs": [
    {
     "name": "stdout",
     "output_type": "stream",
     "text": [
      "Once deleted, variables cannot be recovered. Proceed (y/[n])? y\n"
     ]
    },
    {
     "name": "stderr",
     "output_type": "stream",
     "text": [
      "ERROR:root:Invalid alias: The name clear can't be aliased because it is another magic command.\n",
      "ERROR:root:Invalid alias: The name more can't be aliased because it is another magic command.\n",
      "ERROR:root:Invalid alias: The name less can't be aliased because it is another magic command.\n",
      "ERROR:root:Invalid alias: The name man can't be aliased because it is another magic command.\n"
     ]
    }
   ],
   "source": [
    "%reset"
   ]
  },
  {
   "cell_type": "code",
   "execution_count": 23,
   "metadata": {},
   "outputs": [],
   "source": [
    "import fibo as fibo_new"
   ]
  },
  {
   "cell_type": "code",
   "execution_count": 24,
   "metadata": {
    "scrolled": true
   },
   "outputs": [
    {
     "name": "stdout",
     "output_type": "stream",
     "text": [
      "Variable   Type      Data/Info\n",
      "------------------------------\n",
      "fibo_new   module    <module 'fibo' from '/Use<...>CP/BPM/Lectures/fibo.py'>\n"
     ]
    }
   ],
   "source": [
    "%whos # method 4 acts like method 1 but loads in the module by a different name "
   ]
  },
  {
   "cell_type": "code",
   "execution_count": 25,
   "metadata": {
    "scrolled": false
   },
   "outputs": [
    {
     "data": {
      "text/plain": [
       "['__builtins__',\n",
       " '__cached__',\n",
       " '__doc__',\n",
       " '__file__',\n",
       " '__loader__',\n",
       " '__name__',\n",
       " '__package__',\n",
       " '__spec__',\n",
       " 'fib',\n",
       " 'fib2']"
      ]
     },
     "execution_count": 25,
     "metadata": {},
     "output_type": "execute_result"
    }
   ],
   "source": [
    "dir(fibo_new)"
   ]
  },
  {
   "cell_type": "code",
   "execution_count": 26,
   "metadata": {},
   "outputs": [
    {
     "name": "stdout",
     "output_type": "stream",
     "text": [
      "1 1 2 3 5 8 13 21 34 55 89 \n"
     ]
    }
   ],
   "source": [
    "# now we can use the functions inside the fibo_new module \n",
    "fibo_new.fib(100) # function writes the Fibonacci series up to n "
   ]
  },
  {
   "cell_type": "code",
   "execution_count": 27,
   "metadata": {
    "scrolled": true
   },
   "outputs": [
    {
     "name": "stdout",
     "output_type": "stream",
     "text": [
      "[1, 1, 2, 3, 5, 8, 13, 21, 34, 55, 89]\n"
     ]
    }
   ],
   "source": [
    "fib_series = fibo_new.fib2(100) # function returns the Fibonacci series up to n \n",
    "print(fib_series)"
   ]
  },
  {
   "cell_type": "markdown",
   "metadata": {},
   "source": [
    "### Part 2 (Importing Other Modules):\n",
    "\n",
    "Import the `math` module "
   ]
  },
  {
   "cell_type": "markdown",
   "metadata": {},
   "source": [
    "### Example 1 (Importing Using Method 1):"
   ]
  },
  {
   "cell_type": "code",
   "execution_count": 28,
   "metadata": {},
   "outputs": [
    {
     "name": "stdout",
     "output_type": "stream",
     "text": [
      "Once deleted, variables cannot be recovered. Proceed (y/[n])? y\n"
     ]
    },
    {
     "name": "stderr",
     "output_type": "stream",
     "text": [
      "ERROR:root:Invalid alias: The name clear can't be aliased because it is another magic command.\n",
      "ERROR:root:Invalid alias: The name more can't be aliased because it is another magic command.\n",
      "ERROR:root:Invalid alias: The name less can't be aliased because it is another magic command.\n",
      "ERROR:root:Invalid alias: The name man can't be aliased because it is another magic command.\n"
     ]
    }
   ],
   "source": [
    "# clear our namespace so we can track variables entering with modules (recall the Magic Commands)\n",
    "%reset"
   ]
  },
  {
   "cell_type": "code",
   "execution_count": 29,
   "metadata": {},
   "outputs": [],
   "source": [
    "import math"
   ]
  },
  {
   "cell_type": "code",
   "execution_count": 30,
   "metadata": {},
   "outputs": [
    {
     "name": "stdout",
     "output_type": "stream",
     "text": [
      "Variable   Type      Data/Info\n",
      "------------------------------\n",
      "math       module    <module 'math' from '/ana<...>h.cpython-36m-darwin.so'>\n"
     ]
    }
   ],
   "source": [
    "%whos"
   ]
  },
  {
   "cell_type": "code",
   "execution_count": 31,
   "metadata": {
    "scrolled": false
   },
   "outputs": [
    {
     "name": "stdout",
     "output_type": "stream",
     "text": [
      "['__doc__', '__file__', '__loader__', '__name__', '__package__', '__spec__', 'acos', 'acosh', 'asin', 'asinh', 'atan', 'atan2', 'atanh', 'ceil', 'copysign', 'cos', 'cosh', 'degrees', 'e', 'erf', 'erfc', 'exp', 'expm1', 'fabs', 'factorial', 'floor', 'fmod', 'frexp', 'fsum', 'gamma', 'gcd', 'hypot', 'inf', 'isclose', 'isfinite', 'isinf', 'isnan', 'ldexp', 'lgamma', 'log', 'log10', 'log1p', 'log2', 'modf', 'nan', 'pi', 'pow', 'radians', 'sin', 'sinh', 'sqrt', 'tan', 'tanh', 'tau', 'trunc']\n"
     ]
    }
   ],
   "source": [
    "print(dir(math))"
   ]
  },
  {
   "cell_type": "code",
   "execution_count": 32,
   "metadata": {},
   "outputs": [
    {
     "data": {
      "text/plain": [
       "3.141592653589793"
      ]
     },
     "execution_count": 32,
     "metadata": {},
     "output_type": "execute_result"
    }
   ],
   "source": [
    "# built-in pi name\n",
    "math.pi"
   ]
  },
  {
   "cell_type": "markdown",
   "metadata": {},
   "source": [
    "### Example 1.2 (Importing using Method 2):"
   ]
  },
  {
   "cell_type": "code",
   "execution_count": 33,
   "metadata": {
    "scrolled": false
   },
   "outputs": [
    {
     "name": "stdout",
     "output_type": "stream",
     "text": [
      "Once deleted, variables cannot be recovered. Proceed (y/[n])? \n",
      "Nothing done.\n"
     ]
    }
   ],
   "source": [
    "%reset"
   ]
  },
  {
   "cell_type": "code",
   "execution_count": 34,
   "metadata": {},
   "outputs": [],
   "source": [
    "from math import sin"
   ]
  },
  {
   "cell_type": "code",
   "execution_count": 35,
   "metadata": {
    "scrolled": true
   },
   "outputs": [
    {
     "name": "stdout",
     "output_type": "stream",
     "text": [
      "Variable   Type                          Data/Info\n",
      "--------------------------------------------------\n",
      "math       module                        <module 'math' from '/ana<...>h.cpython-36m-darwin.so'>\n",
      "sin        builtin_function_or_method    <built-in function sin>\n"
     ]
    }
   ],
   "source": [
    "%whos"
   ]
  },
  {
   "cell_type": "code",
   "execution_count": 36,
   "metadata": {},
   "outputs": [
    {
     "data": {
      "text/plain": [
       "0.8414709848078965"
      ]
     },
     "execution_count": 36,
     "metadata": {},
     "output_type": "execute_result"
    }
   ],
   "source": [
    "sin(1)"
   ]
  },
  {
   "cell_type": "markdown",
   "metadata": {},
   "source": [
    "### Example 1.3 (Importing using Method 3):"
   ]
  },
  {
   "cell_type": "code",
   "execution_count": null,
   "metadata": {
    "scrolled": false
   },
   "outputs": [],
   "source": [
    "%reset"
   ]
  },
  {
   "cell_type": "code",
   "execution_count": 37,
   "metadata": {},
   "outputs": [],
   "source": [
    "from math import * "
   ]
  },
  {
   "cell_type": "code",
   "execution_count": 38,
   "metadata": {
    "scrolled": true
   },
   "outputs": [
    {
     "name": "stdout",
     "output_type": "stream",
     "text": [
      "Variable    Type                          Data/Info\n",
      "---------------------------------------------------\n",
      "acos        builtin_function_or_method    <built-in function acos>\n",
      "acosh       builtin_function_or_method    <built-in function acosh>\n",
      "asin        builtin_function_or_method    <built-in function asin>\n",
      "asinh       builtin_function_or_method    <built-in function asinh>\n",
      "atan        builtin_function_or_method    <built-in function atan>\n",
      "atan2       builtin_function_or_method    <built-in function atan2>\n",
      "atanh       builtin_function_or_method    <built-in function atanh>\n",
      "ceil        builtin_function_or_method    <built-in function ceil>\n",
      "copysign    builtin_function_or_method    <built-in function copysign>\n",
      "cos         builtin_function_or_method    <built-in function cos>\n",
      "cosh        builtin_function_or_method    <built-in function cosh>\n",
      "degrees     builtin_function_or_method    <built-in function degrees>\n",
      "e           float                         2.718281828459045\n",
      "erf         builtin_function_or_method    <built-in function erf>\n",
      "erfc        builtin_function_or_method    <built-in function erfc>\n",
      "exp         builtin_function_or_method    <built-in function exp>\n",
      "expm1       builtin_function_or_method    <built-in function expm1>\n",
      "fabs        builtin_function_or_method    <built-in function fabs>\n",
      "factorial   builtin_function_or_method    <built-in function factorial>\n",
      "floor       builtin_function_or_method    <built-in function floor>\n",
      "fmod        builtin_function_or_method    <built-in function fmod>\n",
      "frexp       builtin_function_or_method    <built-in function frexp>\n",
      "fsum        builtin_function_or_method    <built-in function fsum>\n",
      "gamma       builtin_function_or_method    <built-in function gamma>\n",
      "gcd         builtin_function_or_method    <built-in function gcd>\n",
      "hypot       builtin_function_or_method    <built-in function hypot>\n",
      "inf         float                         inf\n",
      "isclose     builtin_function_or_method    <built-in function isclose>\n",
      "isfinite    builtin_function_or_method    <built-in function isfinite>\n",
      "isinf       builtin_function_or_method    <built-in function isinf>\n",
      "isnan       builtin_function_or_method    <built-in function isnan>\n",
      "ldexp       builtin_function_or_method    <built-in function ldexp>\n",
      "lgamma      builtin_function_or_method    <built-in function lgamma>\n",
      "log         builtin_function_or_method    <built-in function log>\n",
      "log10       builtin_function_or_method    <built-in function log10>\n",
      "log1p       builtin_function_or_method    <built-in function log1p>\n",
      "log2        builtin_function_or_method    <built-in function log2>\n",
      "math        module                        <module 'math' from '/ana<...>h.cpython-36m-darwin.so'>\n",
      "modf        builtin_function_or_method    <built-in function modf>\n",
      "nan         float                         nan\n",
      "pi          float                         3.141592653589793\n",
      "pow         builtin_function_or_method    <built-in function pow>\n",
      "radians     builtin_function_or_method    <built-in function radians>\n",
      "sin         builtin_function_or_method    <built-in function sin>\n",
      "sinh        builtin_function_or_method    <built-in function sinh>\n",
      "sqrt        builtin_function_or_method    <built-in function sqrt>\n",
      "tan         builtin_function_or_method    <built-in function tan>\n",
      "tanh        builtin_function_or_method    <built-in function tanh>\n",
      "tau         float                         6.283185307179586\n",
      "trunc       builtin_function_or_method    <built-in function trunc>\n"
     ]
    }
   ],
   "source": [
    "%whos"
   ]
  },
  {
   "cell_type": "code",
   "execution_count": 39,
   "metadata": {},
   "outputs": [
    {
     "data": {
      "text/plain": [
       "20.085536923187668"
      ]
     },
     "execution_count": 39,
     "metadata": {},
     "output_type": "execute_result"
    }
   ],
   "source": [
    "exp(3)"
   ]
  },
  {
   "cell_type": "code",
   "execution_count": 40,
   "metadata": {
    "scrolled": false
   },
   "outputs": [
    {
     "data": {
      "text/plain": [
       "24"
      ]
     },
     "execution_count": 40,
     "metadata": {},
     "output_type": "execute_result"
    }
   ],
   "source": [
    "factorial(4)"
   ]
  },
  {
   "cell_type": "markdown",
   "metadata": {},
   "source": [
    "### Example 1.4 (Importing using Method 4):"
   ]
  },
  {
   "cell_type": "code",
   "execution_count": 41,
   "metadata": {
    "scrolled": true
   },
   "outputs": [
    {
     "name": "stdout",
     "output_type": "stream",
     "text": [
      "Once deleted, variables cannot be recovered. Proceed (y/[n])? \n",
      "Nothing done.\n"
     ]
    }
   ],
   "source": [
    "%reset"
   ]
  },
  {
   "cell_type": "code",
   "execution_count": 42,
   "metadata": {},
   "outputs": [],
   "source": [
    "import math as math_mod"
   ]
  },
  {
   "cell_type": "code",
   "execution_count": 43,
   "metadata": {
    "scrolled": true
   },
   "outputs": [
    {
     "name": "stdout",
     "output_type": "stream",
     "text": [
      "Variable   Type      Data/Info\n",
      "------------------------------\n",
      "math       module    <module 'math' from '/ana<...>h.cpython-36m-darwin.so'>\n",
      "math_mod   module    <module 'math' from '/ana<...>h.cpython-36m-darwin.so'>\n"
     ]
    }
   ],
   "source": [
    "%whos # method 4 acts like method 1 but loads in the module by a different name "
   ]
  },
  {
   "cell_type": "code",
   "execution_count": 44,
   "metadata": {
    "scrolled": true
   },
   "outputs": [
    {
     "data": {
      "text/plain": [
       "3.141592653589793"
      ]
     },
     "execution_count": 44,
     "metadata": {},
     "output_type": "execute_result"
    }
   ],
   "source": [
    "math_mod.pi"
   ]
  },
  {
   "cell_type": "markdown",
   "metadata": {},
   "source": [
    "### 1.1.3 Packages:"
   ]
  },
  {
   "cell_type": "markdown",
   "metadata": {},
   "source": [
    "__Overview:__ \n",
    "- In the same way that we group together similar functions and names within a file and call it a module, we also need to group together similar modules and we call this a __Package__ \n",
    "- __[Packages](https://docs.python.org/3/tutorial/modules.html#tut-packages):__ Packages are a collection of similar modules that frequently are used together \n",
    "- The hierarchy is the following: Within a __Package__, there are __Sub-Packages__ and within Sub-Packages, there are __Modules__ and within Modules, there are statements and definitions \n",
    "- To access a module from a package, use the following notation: `Package_Name.Module_Name` where the `Module_Name` belongs to the `Package_Name`. Or if there exists sub-packages, access modules within sub-packages using the following notation: `Package_Name.Sub_Package_Name.Module_Name`  \n",
    "\n",
    "__Helpful Points:__ \n",
    "1. In the same way that Modules are helpful as they avoid the issue of multiple programmers calling statements and definitions by the same name, Packages are helpful as they avoid the issue of multiple programmers calling modules by the same name \n",
    "2. Definitions and statements are to Modules as Modules are to Packages \n",
    "3. Importing Packages and Sub-Packages should be treated in the same way that Modules and Statements/Functions are imported (see the 4 methods above)\n",
    "\n",
    "__Practice:__ Examples of Importing Packages in Python "
   ]
  },
  {
   "cell_type": "markdown",
   "metadata": {},
   "source": [
    "### Example 1 (Example of Package Hierarchy):\n",
    "\n",
    "Python's documentation has a very helpful example of understanding Package hierarchy: <img src=\"img21.png\" width=550 height=550>"
   ]
  },
  {
   "cell_type": "markdown",
   "metadata": {},
   "source": [
    "> 1. __Import a module in a sub-package (1):__ `import sound.effects.echo` Since the sub-module is loaded in, we have to use the following notation to access a function within this sub-module (see Import Method 1 above): `sound.effects.echo.echofilter()`\n",
    "> 2. __Import a module in a sub-package (2):__ `from sound.effects import echo` which would use the following notation to access a function within this sub-module (see Import Method 2 above): `echo.echofilter()`\n",
    "> 3. __Import a function in a module in a sub-package:__ `from sound.effects.echo import echofilter` which would use the following notation to execute the function (see Import Method 2 above): `echoftiler()`  "
   ]
  },
  {
   "cell_type": "markdown",
   "metadata": {},
   "source": [
    "### Example 2 (Frequently Used Packages):"
   ]
  },
  {
   "cell_type": "code",
   "execution_count": null,
   "metadata": {},
   "outputs": [],
   "source": [
    "# it is customary for data analytics projects to begin with the following imports with the designated aliases \n",
    "import numpy as np\n",
    "import pandas as pd\n",
    "import matplotlib.pyplot as plt"
   ]
  },
  {
   "cell_type": "markdown",
   "metadata": {},
   "source": [
    "`numpy`, `pandas`, and `matplotlib` are 3 very useful packages for Data Scientists and will be covered in future lectures"
   ]
  },
  {
   "cell_type": "code",
   "execution_count": null,
   "metadata": {},
   "outputs": [],
   "source": []
  }
 ],
 "metadata": {
  "kernelspec": {
   "display_name": "Python 3",
   "language": "python",
   "name": "python3"
  },
  "language_info": {
   "codemirror_mode": {
    "name": "ipython",
    "version": 3
   },
   "file_extension": ".py",
   "mimetype": "text/x-python",
   "name": "python",
   "nbconvert_exporter": "python",
   "pygments_lexer": "ipython3",
   "version": "3.6.8"
  },
  "toc": {
   "base_numbering": 1,
   "nav_menu": {},
   "number_sections": true,
   "sideBar": true,
   "skip_h1_title": false,
   "title_cell": "Table of Contents",
   "title_sidebar": "Contents",
   "toc_cell": false,
   "toc_position": {},
   "toc_section_display": true,
   "toc_window_display": false
  }
 },
 "nbformat": 4,
 "nbformat_minor": 2
}
