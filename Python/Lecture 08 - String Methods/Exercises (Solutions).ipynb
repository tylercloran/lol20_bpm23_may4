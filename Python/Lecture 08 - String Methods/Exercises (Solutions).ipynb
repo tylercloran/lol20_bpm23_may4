{
 "cells": [
  {
   "cell_type": "markdown",
   "metadata": {},
   "source": [
    "# Exercises: String Methods\n",
    "\n",
    "Note: There are multiple ways to solve these problems, and these are just examples."
   ]
  },
  {
   "cell_type": "markdown",
   "metadata": {},
   "source": [
    "## For the following string: \"The quick brown fox jumps over the lazy dog\"\n",
    "\n",
    "A) How many characters, including blank spaces, are in the string?\n",
    "\n",
    "B) Replace the work \"quick\" with \"slow\"\n",
    "\n",
    "C) How many words are in the sentence? \n",
    "\n",
    "D) At what index does the letter \"z\" occur?\n",
    "\n",
    "E) Sort the letters of the sentence (not in place) and print it out.\n",
    "\n",
    "F) Count how many times the  letter \"o\" appears.\n",
    "\n",
    "G) Print the string with the first letter of each word capitalized.  Google the __title__ method."
   ]
  },
  {
   "cell_type": "code",
   "execution_count": 9,
   "metadata": {},
   "outputs": [
    {
     "data": {
      "text/plain": [
       "43"
      ]
     },
     "execution_count": 9,
     "metadata": {},
     "output_type": "execute_result"
    }
   ],
   "source": [
    "my_string = \"The quick brown fox jumps over the lazy dog\"\n",
    "\n",
    "# A\n",
    "len(my_string)"
   ]
  },
  {
   "cell_type": "code",
   "execution_count": 11,
   "metadata": {},
   "outputs": [
    {
     "data": {
      "text/plain": [
       "'The slow brown fox jumps over the lazy dog'"
      ]
     },
     "execution_count": 11,
     "metadata": {},
     "output_type": "execute_result"
    }
   ],
   "source": [
    "# B\n",
    "my_string = my_string.replace('quick','slow')\n",
    "my_string"
   ]
  },
  {
   "cell_type": "code",
   "execution_count": 17,
   "metadata": {},
   "outputs": [
    {
     "name": "stdout",
     "output_type": "stream",
     "text": [
      "There are 9 words in the sentence\n"
     ]
    }
   ],
   "source": [
    "# C\n",
    "my_list = my_string.split(' ')\n",
    "print(\"There are {} words in the sentence\".format(len(my_list)))"
   ]
  },
  {
   "cell_type": "code",
   "execution_count": 18,
   "metadata": {},
   "outputs": [
    {
     "data": {
      "text/plain": [
       "36"
      ]
     },
     "execution_count": 18,
     "metadata": {},
     "output_type": "execute_result"
    }
   ],
   "source": [
    "# D\n",
    "my_string.index('z')"
   ]
  },
  {
   "cell_type": "code",
   "execution_count": 20,
   "metadata": {},
   "outputs": [
    {
     "name": "stdout",
     "output_type": "stream",
     "text": [
      "[' ', ' ', ' ', ' ', ' ', ' ', ' ', ' ', 'T', 'a', 'b', 'd', 'e', 'e', 'e', 'f', 'g', 'h', 'h', 'j', 'l', 'l', 'm', 'n', 'o', 'o', 'o', 'o', 'o', 'p', 'r', 'r', 's', 's', 't', 'u', 'v', 'w', 'w', 'x', 'y', 'z']\n"
     ]
    }
   ],
   "source": [
    "# E\n",
    "print(sorted(my_string))"
   ]
  },
  {
   "cell_type": "code",
   "execution_count": 22,
   "metadata": {},
   "outputs": [
    {
     "data": {
      "text/plain": [
       "5"
      ]
     },
     "execution_count": 22,
     "metadata": {},
     "output_type": "execute_result"
    }
   ],
   "source": [
    "# F\n",
    "my_string.count('o')"
   ]
  },
  {
   "cell_type": "code",
   "execution_count": 26,
   "metadata": {},
   "outputs": [
    {
     "name": "stdout",
     "output_type": "stream",
     "text": [
      "The Slow Brown Fox Jumps Over The Lazy Dog\n"
     ]
    }
   ],
   "source": [
    "# G\n",
    "print(my_string.title())"
   ]
  },
  {
   "cell_type": "markdown",
   "metadata": {},
   "source": [
    "## Print a sentence with the following format: \"The number is X!\" Replace X with:\n",
    "\n",
    "A) The output of 1/3 showing all decimals\n",
    "\n",
    "B) The output of 1+1/3 showing no decimals\n",
    "\n",
    "C) The output of 10/3 showing 2 decimals"
   ]
  },
  {
   "cell_type": "code",
   "execution_count": 27,
   "metadata": {},
   "outputs": [
    {
     "name": "stdout",
     "output_type": "stream",
     "text": [
      "The number is 0.3333333333333333\n"
     ]
    }
   ],
   "source": [
    "# A\n",
    "print(\"The number is {}\".format(1/3))"
   ]
  },
  {
   "cell_type": "code",
   "execution_count": 35,
   "metadata": {},
   "outputs": [
    {
     "name": "stdout",
     "output_type": "stream",
     "text": [
      "The number is 1\n"
     ]
    }
   ],
   "source": [
    "# B\n",
    "print(\"The number is {}\".format(round(1+1/3)))"
   ]
  },
  {
   "cell_type": "code",
   "execution_count": 47,
   "metadata": {},
   "outputs": [
    {
     "name": "stdout",
     "output_type": "stream",
     "text": [
      "The number is 3.33\n"
     ]
    }
   ],
   "source": [
    "# C\n",
    "print(\"The number is {:.3}\".format(10/3))"
   ]
  }
 ],
 "metadata": {
  "kernelspec": {
   "display_name": "Python 3",
   "language": "python",
   "name": "python3"
  },
  "language_info": {
   "codemirror_mode": {
    "name": "ipython",
    "version": 3
   },
   "file_extension": ".py",
   "mimetype": "text/x-python",
   "name": "python",
   "nbconvert_exporter": "python",
   "pygments_lexer": "ipython3",
   "version": "3.6.8"
  },
  "toc": {
   "base_numbering": 1,
   "nav_menu": {},
   "number_sections": true,
   "sideBar": true,
   "skip_h1_title": false,
   "title_cell": "Table of Contents",
   "title_sidebar": "Contents",
   "toc_cell": false,
   "toc_position": {},
   "toc_section_display": true,
   "toc_window_display": false
  }
 },
 "nbformat": 4,
 "nbformat_minor": 2
}
