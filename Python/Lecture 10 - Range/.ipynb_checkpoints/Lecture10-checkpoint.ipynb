{
 "cells": [
  {
   "cell_type": "markdown",
   "metadata": {},
   "source": [
    "# Beginner Python and Math for Data Science\n",
    "## Lecture 10\n",
    "### Range"
   ]
  },
  {
   "cell_type": "markdown",
   "metadata": {},
   "source": [
    "__Purpose:__\n",
    "The purpose of this lecture is to understand how to work with ranges.\n",
    "\n",
    "__At the end of this lecture you will be able to:__\n",
    "1. Understand how to create, access and work with various range operations\n",
    "2. Work with miscellaneous actions such as len, min, max, index and count\n",
    "3. Sort the range"
   ]
  },
  {
   "cell_type": "markdown",
   "metadata": {},
   "source": [
    "## 1.1 Overview of Sequence Type 4 - Range"
   ]
  },
  {
   "cell_type": "markdown",
   "metadata": {},
   "source": [
    "__Overview:__\n",
    "- __[Range](https://docs.python.org/3/library/stdtypes.html#range):__ Range type is an immutable sequence of numbers \n",
    "- The range type has 3 arguments (similar to a slice): `start`, `stop`, and `step`\n",
    "\n",
    "__Helpful Points:__\n",
    "1. Range types are most commonly used for looping a specific number of times in `for` loops \n",
    "2. Range types are advantageous over a regular `list` or `tuple` since a `range` object will always take the same, small amount of memory in your computer, no matter the size of the range it represents (i.e. a range of 5 numbers will take the same amount of memory as a range of 5M numbers)\n",
    "3. The range object only stores the `start`, `stop`, and `step` values in memory and then calculates the individual items as needed "
   ]
  },
  {
   "cell_type": "markdown",
   "metadata": {},
   "source": [
    "### 1.1.1 Creating Ranges"
   ]
  },
  {
   "cell_type": "markdown",
   "metadata": {},
   "source": [
    "__Overview:__\n",
    "- A `range` object can be created only one way with the general format of `start`, `stop`, and `step`\n",
    "\n",
    "__Helpful Points:__\n",
    "1. Similar to slices, some of the arguments in the range may be ommitted (i.e. `start` defaults to 0, if not provided)\n",
    "2. We will see below that when printing a range, we are unable to see the actual numbers. To see the sequence of numbers, we have to convert the `range` type to a `list`\n",
    "\n",
    "__Practice:__ Examples of creating ranges in Python "
   ]
  },
  {
   "cell_type": "markdown",
   "metadata": {},
   "source": [
    "### Example 1 (Creating `range` with `stop` only):"
   ]
  },
  {
   "cell_type": "code",
   "execution_count": 4,
   "metadata": {},
   "outputs": [
    {
     "name": "stdout",
     "output_type": "stream",
     "text": [
      "range(0, 10)\n",
      "<class 'range'>\n"
     ]
    }
   ],
   "source": [
    "print(range(10))\n",
    "print(type(range(10)))"
   ]
  },
  {
   "cell_type": "code",
   "execution_count": 5,
   "metadata": {},
   "outputs": [
    {
     "data": {
      "text/plain": [
       "[0, 1, 2, 3, 4, 5, 6, 7, 8, 9]"
      ]
     },
     "execution_count": 5,
     "metadata": {},
     "output_type": "execute_result"
    }
   ],
   "source": [
    "list(range(10))"
   ]
  },
  {
   "cell_type": "code",
   "execution_count": 6,
   "metadata": {},
   "outputs": [
    {
     "name": "stdout",
     "output_type": "stream",
     "text": [
      "range(0, 10)\n"
     ]
    }
   ],
   "source": [
    "print(range(10)) # this really means range(0, 10, 1)"
   ]
  },
  {
   "cell_type": "code",
   "execution_count": 9,
   "metadata": {},
   "outputs": [
    {
     "data": {
      "text/plain": [
       "[3, 4, 5, 6, 7, 8, 9]"
      ]
     },
     "execution_count": 9,
     "metadata": {},
     "output_type": "execute_result"
    }
   ],
   "source": [
    "list(range(3,10))"
   ]
  },
  {
   "cell_type": "code",
   "execution_count": 10,
   "metadata": {},
   "outputs": [
    {
     "name": "stdout",
     "output_type": "stream",
     "text": [
      "0\n",
      "1\n",
      "2\n",
      "3\n",
      "4\n",
      "5\n",
      "6\n",
      "7\n",
      "8\n",
      "9\n"
     ]
    }
   ],
   "source": [
    "# perform an action 10 times \n",
    "for i in range(10):\n",
    "    print(i)"
   ]
  },
  {
   "cell_type": "markdown",
   "metadata": {},
   "source": [
    "### Example 2 (Creating `range` with `start` and `stop` only):"
   ]
  },
  {
   "cell_type": "code",
   "execution_count": 11,
   "metadata": {},
   "outputs": [
    {
     "name": "stdout",
     "output_type": "stream",
     "text": [
      "range(1, 10)\n"
     ]
    }
   ],
   "source": [
    "print(range(1,10)) # this really means range(1, 10, 1)"
   ]
  },
  {
   "cell_type": "code",
   "execution_count": 12,
   "metadata": {},
   "outputs": [
    {
     "name": "stdout",
     "output_type": "stream",
     "text": [
      "[1, 2, 3, 4, 5, 6, 7, 8, 9]\n"
     ]
    }
   ],
   "source": [
    "print(list(range(1,10)))"
   ]
  },
  {
   "cell_type": "markdown",
   "metadata": {},
   "source": [
    "### Example 3 (Creating `range` with `start`, `stop`, and `step`):"
   ]
  },
  {
   "cell_type": "code",
   "execution_count": 13,
   "metadata": {},
   "outputs": [
    {
     "name": "stdout",
     "output_type": "stream",
     "text": [
      "range(0, 50, 5)\n"
     ]
    }
   ],
   "source": [
    "print(range(0, 50, 5))"
   ]
  },
  {
   "cell_type": "code",
   "execution_count": 14,
   "metadata": {},
   "outputs": [
    {
     "name": "stdout",
     "output_type": "stream",
     "text": [
      "[0, 5, 10, 15, 20, 25, 30, 35, 40, 45]\n"
     ]
    }
   ],
   "source": [
    "print(list(range(0, 50, 5)))"
   ]
  },
  {
   "cell_type": "markdown",
   "metadata": {},
   "source": [
    "### Example 4 (Creating `range` with negative `stop` and `step`):"
   ]
  },
  {
   "cell_type": "code",
   "execution_count": 16,
   "metadata": {},
   "outputs": [
    {
     "name": "stdout",
     "output_type": "stream",
     "text": [
      "[5, 4, 3, 2, 1, 0, -1, -2, -3, -4]\n"
     ]
    }
   ],
   "source": [
    "print(list(range(5, -5, -1))) # if a negative step is used, the start must be greater than the stop "
   ]
  },
  {
   "cell_type": "code",
   "execution_count": 15,
   "metadata": {},
   "outputs": [
    {
     "name": "stdout",
     "output_type": "stream",
     "text": [
      "[]\n"
     ]
    }
   ],
   "source": [
    "print(list(range(5, -5, 1)))"
   ]
  },
  {
   "cell_type": "code",
   "execution_count": 18,
   "metadata": {},
   "outputs": [
    {
     "name": "stdout",
     "output_type": "stream",
     "text": [
      "[]\n"
     ]
    }
   ],
   "source": [
    "print(list(range(-5, 5, -1)))"
   ]
  },
  {
   "cell_type": "markdown",
   "metadata": {},
   "source": [
    "### 1.1.2 Accessing Elements within Ranges"
   ]
  },
  {
   "cell_type": "markdown",
   "metadata": {},
   "source": [
    "__Overview:__\n",
    "- Each item within a range are referred to as __elements__ and they can easily be accessed (for example, if you want to extract the second element of a range)\n",
    "- Similar to lists, strings, and tuples, each element is assigned a number beginning with 0 \n",
    "- Both methods of indexing (single-indexing and multi-indexing by slicing) are also applicable for range \n",
    "\n",
    "__Helpful Points:__\n",
    "1. Similar to lists, strings, and tuples, range can only be indexed by `int` and not any other type (i.e. `bool`)\n",
    "2. The peculiar but helpful features of indexing-out-of-range are also present with range \n",
    "\n",
    "__Practice:__ Examples of accessing elements within ranges "
   ]
  },
  {
   "cell_type": "markdown",
   "metadata": {},
   "source": [
    "### Example 1 (Index Method 1):"
   ]
  },
  {
   "cell_type": "code",
   "execution_count": 22,
   "metadata": {},
   "outputs": [
    {
     "name": "stdout",
     "output_type": "stream",
     "text": [
      "range(0, 10)\n",
      "[0, 1, 2, 3, 4, 5, 6, 7, 8, 9]\n"
     ]
    }
   ],
   "source": [
    "my_range = range(10)\n",
    "print(my_range)\n",
    "print(list(my_range))"
   ]
  },
  {
   "cell_type": "code",
   "execution_count": 23,
   "metadata": {},
   "outputs": [
    {
     "name": "stdout",
     "output_type": "stream",
     "text": [
      "3\n",
      "3\n"
     ]
    },
    {
     "data": {
      "text/plain": [
       "int"
      ]
     },
     "execution_count": 23,
     "metadata": {},
     "output_type": "execute_result"
    }
   ],
   "source": [
    "# 4th element from the left (with and without saving range as a variable)\n",
    "print(my_range[3])\n",
    "print(range(10)[3])\n",
    "type(range(10)[3])"
   ]
  },
  {
   "cell_type": "markdown",
   "metadata": {},
   "source": [
    "### Example 2 (Index Method 2):"
   ]
  },
  {
   "cell_type": "code",
   "execution_count": 25,
   "metadata": {},
   "outputs": [
    {
     "name": "stdout",
     "output_type": "stream",
     "text": [
      "range(1, 5)\n",
      "[1, 2, 3, 4]\n"
     ]
    },
    {
     "data": {
      "text/plain": [
       "range"
      ]
     },
     "execution_count": 25,
     "metadata": {},
     "output_type": "execute_result"
    }
   ],
   "source": [
    "# slice from 1st element to 4th element (5th element minus one) by step 1 \n",
    "print(my_range[1:5])\n",
    "print(list(my_range[1:5]))\n",
    "type(my_range[1:5])"
   ]
  },
  {
   "cell_type": "markdown",
   "metadata": {},
   "source": [
    "Note: not all types of examples are shown here with ranges since the process is identical to that of accessing elements within the other sequence types. "
   ]
  },
  {
   "cell_type": "markdown",
   "metadata": {},
   "source": [
    "### 1.1.3 More Range Operations"
   ]
  },
  {
   "cell_type": "markdown",
   "metadata": {},
   "source": [
    "__Overview:__\n",
    "- Recall the types of operations available for Sequence Types \n",
    "- Since the `range` type is immutable, we can only perform the Common Sequence Operations and NOT the Mutable Sequence Type Operations (like we did for lists)\n",
    "- Ranges implement all the Common Sequence Operations EXCEPT concatenation and repetition (unlike lists, strings, and tuples - the other sequence types). The reason being is that range objects can only represent sequences that follow a strict pattern and when reptition/concatenation is performed, this pattern is compromised\n",
    "\n",
    "__Helpful Points:__\n",
    "1. Below, we will cover the Common Sequence Type Operations (membership test operations and misc. actions, but NOT repetition and concatenation)\n",
    "\n",
    "__Practice:__ Examples of String Operations in Python "
   ]
  },
  {
   "cell_type": "markdown",
   "metadata": {},
   "source": [
    "### Example 1.1 (Membership Test Operations):"
   ]
  },
  {
   "cell_type": "code",
   "execution_count": 30,
   "metadata": {},
   "outputs": [
    {
     "name": "stdout",
     "output_type": "stream",
     "text": [
      "range(0, 21, 3)\n",
      "[0, 3, 6, 9, 12, 15, 18]\n"
     ]
    }
   ],
   "source": [
    "my_range = range(0, 21, 3)\n",
    "print(my_range)\n",
    "print(list(my_range))"
   ]
  },
  {
   "cell_type": "code",
   "execution_count": 27,
   "metadata": {},
   "outputs": [
    {
     "data": {
      "text/plain": [
       "True"
      ]
     },
     "execution_count": 27,
     "metadata": {},
     "output_type": "execute_result"
    }
   ],
   "source": [
    "6 in my_range"
   ]
  },
  {
   "cell_type": "code",
   "execution_count": 28,
   "metadata": {},
   "outputs": [
    {
     "data": {
      "text/plain": [
       "False"
      ]
     },
     "execution_count": 28,
     "metadata": {},
     "output_type": "execute_result"
    }
   ],
   "source": [
    "10 in my_range"
   ]
  },
  {
   "cell_type": "code",
   "execution_count": 29,
   "metadata": {
    "scrolled": true
   },
   "outputs": [
    {
     "data": {
      "text/plain": [
       "True"
      ]
     },
     "execution_count": 29,
     "metadata": {},
     "output_type": "execute_result"
    }
   ],
   "source": [
    "10 not in my_range"
   ]
  },
  {
   "cell_type": "markdown",
   "metadata": {},
   "source": [
    "### Example 1.2 (Value Comparisons with Ranges):"
   ]
  },
  {
   "cell_type": "markdown",
   "metadata": {},
   "source": [
    "It is possible to test range objects for equality with the operators `==` and `!=`, however the objects are compared based on their sequences and NOT based on their object identities. Note, that two range objects may be equal, but have different `start`, `stop`, and `step` attributes (see below for example). "
   ]
  },
  {
   "cell_type": "code",
   "execution_count": 31,
   "metadata": {},
   "outputs": [
    {
     "name": "stdout",
     "output_type": "stream",
     "text": [
      "[0, 2]\n",
      "[0, 2]\n"
     ]
    }
   ],
   "source": [
    "range_1 = range(0, 3, 2)\n",
    "print(list(range_1))\n",
    "range_2 = range(0, 4, 2)\n",
    "print(list(range_2))"
   ]
  },
  {
   "cell_type": "code",
   "execution_count": 32,
   "metadata": {
    "scrolled": true
   },
   "outputs": [
    {
     "name": "stdout",
     "output_type": "stream",
     "text": [
      "True\n"
     ]
    }
   ],
   "source": [
    "print(range_1 == range_2)"
   ]
  },
  {
   "cell_type": "code",
   "execution_count": 33,
   "metadata": {},
   "outputs": [
    {
     "name": "stdout",
     "output_type": "stream",
     "text": [
      "4536976560\n",
      "4536978096\n"
     ]
    }
   ],
   "source": [
    "print(id(range_1))\n",
    "print(id(range_2))"
   ]
  },
  {
   "cell_type": "code",
   "execution_count": 34,
   "metadata": {},
   "outputs": [
    {
     "name": "stdout",
     "output_type": "stream",
     "text": [
      "False\n"
     ]
    }
   ],
   "source": [
    "print(range_1 is range_2)"
   ]
  },
  {
   "cell_type": "markdown",
   "metadata": {},
   "source": [
    "### Example 1.3 (Misc. Actions on Ranges):"
   ]
  },
  {
   "cell_type": "markdown",
   "metadata": {},
   "source": [
    "### Example 1.3.1 (Simple Actions - `len`, `min`, `max`, `index`, `count`):"
   ]
  },
  {
   "cell_type": "code",
   "execution_count": 35,
   "metadata": {},
   "outputs": [
    {
     "name": "stdout",
     "output_type": "stream",
     "text": [
      "range(-1000, 1000, 10)\n"
     ]
    }
   ],
   "source": [
    "my_range_1 = range(-1000, 1000, 10)\n",
    "print(my_range_1)"
   ]
  },
  {
   "cell_type": "code",
   "execution_count": 36,
   "metadata": {},
   "outputs": [
    {
     "data": {
      "text/plain": [
       "200"
      ]
     },
     "execution_count": 36,
     "metadata": {},
     "output_type": "execute_result"
    }
   ],
   "source": [
    "# find the length of the range (number of elements in the range)\n",
    "len(my_range_1)"
   ]
  },
  {
   "cell_type": "code",
   "execution_count": 37,
   "metadata": {},
   "outputs": [
    {
     "data": {
      "text/plain": [
       "-1000"
      ]
     },
     "execution_count": 37,
     "metadata": {},
     "output_type": "execute_result"
    }
   ],
   "source": [
    "# find the minimum value of the range (smallest number in the range)\n",
    "min(my_range_1)"
   ]
  },
  {
   "cell_type": "code",
   "execution_count": 38,
   "metadata": {},
   "outputs": [
    {
     "data": {
      "text/plain": [
       "990"
      ]
     },
     "execution_count": 38,
     "metadata": {},
     "output_type": "execute_result"
    }
   ],
   "source": [
    "# find the maximum value of the range (largest number in the range)\n",
    "max(my_range_1)"
   ]
  },
  {
   "cell_type": "code",
   "execution_count": 39,
   "metadata": {},
   "outputs": [
    {
     "data": {
      "text/plain": [
       "110"
      ]
     },
     "execution_count": 39,
     "metadata": {},
     "output_type": "execute_result"
    }
   ],
   "source": [
    "# find the index of the first occurrence of 100 in my_range_1\n",
    "my_range_1.index(100)"
   ]
  },
  {
   "cell_type": "code",
   "execution_count": 40,
   "metadata": {},
   "outputs": [
    {
     "data": {
      "text/plain": [
       "1"
      ]
     },
     "execution_count": 40,
     "metadata": {},
     "output_type": "execute_result"
    }
   ],
   "source": [
    "# find the total number of occurrences of 10 in my_string \n",
    "my_range_1.count(10)"
   ]
  },
  {
   "cell_type": "markdown",
   "metadata": {},
   "source": [
    "### Example 1.3.2 (Advanced Actions - `sort`):"
   ]
  },
  {
   "cell_type": "markdown",
   "metadata": {},
   "source": [
    "Since ranges are immutable, sorting ranges in Python can only be done 1 way - with the generic `sorted()` function which simply returns a copy of the object and does not attempty to modify the original range. "
   ]
  },
  {
   "cell_type": "code",
   "execution_count": 41,
   "metadata": {},
   "outputs": [
    {
     "name": "stdout",
     "output_type": "stream",
     "text": [
      "range(77, -77, -11)\n"
     ]
    }
   ],
   "source": [
    "my_range = range(77, -77, -11)\n",
    "print(my_range)"
   ]
  },
  {
   "cell_type": "code",
   "execution_count": 42,
   "metadata": {},
   "outputs": [
    {
     "name": "stdout",
     "output_type": "stream",
     "text": [
      "[-66, -55, -44, -33, -22, -11, 0, 11, 22, 33, 44, 55, 66, 77]\n",
      "range(77, -77, -11)\n"
     ]
    }
   ],
   "source": [
    "# sort the range\n",
    "print(sorted(my_range))\n",
    "print(my_range)"
   ]
  },
  {
   "cell_type": "markdown",
   "metadata": {},
   "source": [
    "We can see that the `sorted()` function simply returned a copy of the original range, but in `list` form, but when we print the original range, it has not changed. This is an example of not in-place. "
   ]
  },
  {
   "cell_type": "markdown",
   "metadata": {},
   "source": [
    "### Problem 1:\n",
    "\n",
    "Create a `range` that goes from `500` to `5000` by steps of `250`. Check if `7550` is in our range. \n",
    "\n",
    "Notes\n",
    "- Convert your range to a list and print it to see all elements of your range "
   ]
  },
  {
   "cell_type": "code",
   "execution_count": null,
   "metadata": {},
   "outputs": [],
   "source": [
    "# Write your code here\n",
    "\n",
    "\n"
   ]
  },
  {
   "cell_type": "markdown",
   "metadata": {},
   "source": [
    "# ANSWERS"
   ]
  },
  {
   "cell_type": "markdown",
   "metadata": {},
   "source": [
    "### Problem 1:\n",
    "\n",
    "Create a `range` that goes from `500` to `5000` by steps of `250`. Check if `7550` is in our range. \n",
    "\n",
    "Notes\n",
    "- Convert your range to a list and print it to see all elements of your range "
   ]
  },
  {
   "cell_type": "code",
   "execution_count": 43,
   "metadata": {},
   "outputs": [
    {
     "name": "stdout",
     "output_type": "stream",
     "text": [
      "False\n",
      "[500, 750, 1000, 1250, 1500, 1750, 2000, 2250, 2500, 2750, 3000, 3250, 3500, 3750, 4000, 4250, 4500, 4750]\n"
     ]
    }
   ],
   "source": [
    "my_range = range(500,5000,250)\n",
    "print(7750 in my_range)\n",
    "print(list(my_range))"
   ]
  },
  {
   "cell_type": "code",
   "execution_count": null,
   "metadata": {},
   "outputs": [],
   "source": []
  }
 ],
 "metadata": {
  "kernelspec": {
   "display_name": "Python 3",
   "language": "python",
   "name": "python3"
  },
  "language_info": {
   "codemirror_mode": {
    "name": "ipython",
    "version": 3
   },
   "file_extension": ".py",
   "mimetype": "text/x-python",
   "name": "python",
   "nbconvert_exporter": "python",
   "pygments_lexer": "ipython3",
   "version": "3.7.3"
  }
 },
 "nbformat": 4,
 "nbformat_minor": 2
}
