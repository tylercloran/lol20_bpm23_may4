{
 "cells": [
  {
   "cell_type": "markdown",
   "metadata": {},
   "source": [
    "# Exercises: Debugging"
   ]
  },
  {
   "cell_type": "markdown",
   "metadata": {},
   "source": [
    "The code in the following cell reads in daily sales for one month from four stores, and calculates the average sales per day for each store. Use the debugging tools covered in the lecture to find and fix the errors in the code and the datasets, and run the program without any errors."
   ]
  },
  {
   "cell_type": "code",
   "execution_count": null,
   "metadata": {
    "ExecuteTime": {
     "end_time": "2019-12-24T01:48:02.205638Z",
     "start_time": "2019-12-24T01:48:02.175059Z"
    }
   },
   "outputs": [],
   "source": [
    "import os\n",
    "\n",
    "def read_sales(filepath):\n",
    "    with open(sales_file, 'r') as file:\n",
    "        sales = file.readlines()\n",
    "    return sales\n",
    "    \n",
    "def average(numbers):\n",
    "    total = 0\n",
    "    for n in numbers:\n",
    "        total += n\n",
    "    mean = total / len(numbers)\n",
    "    return mean\n",
    "\n",
    "stores = ['store_1', 'store_2', 'store_3', 'store_4']\n",
    "sales = {}\n",
    "averages = {}\n",
    "\n",
    "for store in stores:\n",
    "    sales_file = os.path.join('sales_data', store + '.txt')\n",
    "    sales[store] = read_sales(sales_file)\n",
    "    averages[store] = average(sales[store])"
   ]
  }
 ],
 "metadata": {
  "kernelspec": {
   "display_name": "Python 3",
   "language": "python",
   "name": "python3"
  },
  "language_info": {
   "codemirror_mode": {
    "name": "ipython",
    "version": 3
   },
   "file_extension": ".py",
   "mimetype": "text/x-python",
   "name": "python",
   "nbconvert_exporter": "python",
   "pygments_lexer": "ipython3",
   "version": "3.6.8"
  },
  "toc": {
   "base_numbering": 1,
   "nav_menu": {},
   "number_sections": true,
   "sideBar": true,
   "skip_h1_title": false,
   "title_cell": "Table of Contents",
   "title_sidebar": "Contents",
   "toc_cell": false,
   "toc_position": {},
   "toc_section_display": true,
   "toc_window_display": false
  }
 },
 "nbformat": 4,
 "nbformat_minor": 2
}
