{
 "cells": [
  {
   "cell_type": "markdown",
   "metadata": {},
   "source": [
    "# Exercises: Advanced Boolean Logic\n",
    "\n",
    "Recall how these Boolean keywords work:\n",
    "> - `and` (`x and y` returns `True` if `x` and `y` are both `True`)\n",
    "> - `or` (`x or y` returns `True` if `x` or `y` is `True`)\n",
    "> - `not` (`x and not y` means the opposite of `y`)\n",
    "> - `is` (`x is y` returns `True` if `x` and `y` point to the same object in memory)\n",
    "\n",
    "Comment out the lines of code that will fail.\n"
   ]
  },
  {
   "cell_type": "code",
   "execution_count": null,
   "metadata": {
    "ExecuteTime": {
     "end_time": "2019-10-15T23:36:47.488799Z",
     "start_time": "2019-10-15T23:36:47.485771Z"
    }
   },
   "outputs": [],
   "source": [
    "#assert 1 is 1.0\n",
    "assert 1 == 1.0\n",
    "#assert 1 is True\n",
    "assert 1 == True\n",
    "assert 0 == False or 0 is False\n",
    "#assert 0 is not True and 0 is False\n",
    "\n",
    "#assert '' == False\n",
    "#assert '' is False\n",
    "assert '' is not True"
   ]
  },
  {
   "cell_type": "code",
   "execution_count": null,
   "metadata": {
    "ExecuteTime": {
     "end_time": "2019-10-15T23:40:14.089259Z",
     "start_time": "2019-10-15T23:40:14.081280Z"
    }
   },
   "outputs": [],
   "source": [
    "assert 3 < 4 < 5\n",
    "assert 0 < 1 == 1.0 < 2\n",
    "# assert 0 < 1 is 1.0 < 2"
   ]
  },
  {
   "cell_type": "code",
   "execution_count": null,
   "metadata": {
    "ExecuteTime": {
     "end_time": "2019-10-15T23:35:09.040929Z",
     "start_time": "2019-10-15T23:35:09.035006Z"
    }
   },
   "outputs": [],
   "source": [
    "x = 12\n",
    "assert 10 < x < 15\n",
    "#assert 10 < x > 15"
   ]
  },
  {
   "cell_type": "markdown",
   "metadata": {},
   "source": [
    "## Write a program to test whether a number is within 100 of either 1000 or 2000.\n",
    "\n",
    "Test your solution with the number `2200`, `900`, and `800`"
   ]
  },
  {
   "cell_type": "code",
   "execution_count": null,
   "metadata": {},
   "outputs": [],
   "source": [
    "check_2200 = (abs(1000 - 2200) <= 100) or (abs(2000 - 2200) <= 100)\n",
    "print(check_2200)"
   ]
  },
  {
   "cell_type": "code",
   "execution_count": null,
   "metadata": {},
   "outputs": [],
   "source": [
    "check_900 = (abs(1000 - 900) <= 100) or (abs(2000 - 900) <= 100)\n",
    "print(check_900)"
   ]
  },
  {
   "cell_type": "code",
   "execution_count": null,
   "metadata": {},
   "outputs": [],
   "source": [
    "check_800 = (abs(1000 - 800) <= 100) or (abs(2000 - 800) <= 100)\n",
    "print(check_800)"
   ]
  },
  {
   "cell_type": "markdown",
   "metadata": {},
   "source": [
    "## Are 10 lbs heavier than 3 kgs or 20 kgs?\n",
    "Knowing that:\n",
    "- 1 kgs is 2.2 lbs"
   ]
  },
  {
   "cell_type": "code",
   "execution_count": null,
   "metadata": {},
   "outputs": [],
   "source": [
    "# convert to kgs\n",
    "mass1_kgs = 10/2.2\n",
    "mass2_kgs = 3\n",
    "mass3_kgs = 20\n",
    "\n",
    "print('The first mass has', round(mass1_kgs, 2),'kgs')\n",
    "\n",
    "result = (mass1_kgs > mass2_kgs) or (mass1_kgs > mass3_kgs)\n",
    "print('Are 10 lbs heavier than 3kgs or 20kgs?', result)"
   ]
  }
 ],
 "metadata": {
  "kernelspec": {
   "display_name": "Python 3",
   "language": "python",
   "name": "python3"
  },
  "language_info": {
   "codemirror_mode": {
    "name": "ipython",
    "version": 3
   },
   "file_extension": ".py",
   "mimetype": "text/x-python",
   "name": "python",
   "nbconvert_exporter": "python",
   "pygments_lexer": "ipython3",
   "version": "3.7.3"
  },
  "toc": {
   "base_numbering": 1,
   "nav_menu": {},
   "number_sections": true,
   "sideBar": true,
   "skip_h1_title": false,
   "title_cell": "Table of Contents",
   "title_sidebar": "Contents",
   "toc_cell": false,
   "toc_position": {},
   "toc_section_display": true,
   "toc_window_display": false
  }
 },
 "nbformat": 4,
 "nbformat_minor": 2
}
