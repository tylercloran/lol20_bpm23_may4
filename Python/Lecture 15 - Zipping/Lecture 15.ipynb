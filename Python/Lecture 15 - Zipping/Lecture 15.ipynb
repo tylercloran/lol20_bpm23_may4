{
 "cells": [
  {
   "cell_type": "markdown",
   "metadata": {},
   "source": [
    "# Beginner Python and Math for Data Science\n",
    "## Lecture 15 (OPTIONAL)\n",
    "### Zipping and Unzipping"
   ]
  },
  {
   "cell_type": "markdown",
   "metadata": {},
   "source": [
    "__Purpose:__\n",
    "The purpose of this lecture is to understand zipping and unzipping. \n",
    "\n",
    "__At the end of this lecture you will be able to:__\n",
    "1. Understand the definition of zipping and unzipping\n",
    "2. Apply zipping in for loops"
   ]
  },
  {
   "cell_type": "markdown",
   "metadata": {},
   "source": [
    "## 1.1 Zipping and Unzipping"
   ]
  },
  {
   "cell_type": "markdown",
   "metadata": {},
   "source": [
    "__Overview:__\n",
    "- __[Zipping](http://python-reference.readthedocs.io/en/latest/docs/functions/zip.html)__: Zipping is a convenient feature in Python that allows you to combine 2 or more sequences, into a single sequence\n",
    "- The new sequence consists of a list of `n-tuples` (where the i-th tuple contains the i-th element from each of the argument sequences) and `n` is the number of sequences which corresponds to the length of the list\n",
    "- For example, 2 objects that are of type `list`, can be \"zipped\" together and the resulting list will be a `tuple` looking like this: `[(element 0 of list 1, element 0 of list 2), (element 1 of list 1, element 1 of list 2), ...]`\n",
    "- __Unzipping:__ Unzipping is the opposite of the __Zipping__ feature and is performed by using the `*` operator \n",
    "\n",
    "__Helpful Points:__\n",
    "1. The term \"zipping\" is most commonly used to __[\"zip\"](https://en.wikipedia.org/wiki/Zip_(file_format))__ files which means to \"compress\" a series of files. In Python, the interpretation is the same (but we are compressing sequences, not files)\n",
    "2. If the sequences that are passed in are not of equal length, the returned list is truncated to the length of the shortest sequence\n",
    "3. When using the `zip()` function directly, the result will not automatically be a `list`, this is something you need to force by using the `list()` function\n",
    "4. Zipping is very useful (and common) for iterating over multiple sequences at once (see Part 3 in examples below)\n",
    "\n",
    "__Practice:__ Examples of Zipping and Unzipping in Python "
   ]
  },
  {
   "cell_type": "markdown",
   "metadata": {},
   "source": [
    "### Part 1 (Zipping):"
   ]
  },
  {
   "cell_type": "markdown",
   "metadata": {},
   "source": [
    "### Example 1.1 (Zip With No Arguments):"
   ]
  },
  {
   "cell_type": "code",
   "execution_count": 1,
   "metadata": {},
   "outputs": [
    {
     "data": {
      "text/plain": [
       "<zip at 0x10c717d08>"
      ]
     },
     "execution_count": 1,
     "metadata": {},
     "output_type": "execute_result"
    }
   ],
   "source": [
    "zip()"
   ]
  },
  {
   "cell_type": "code",
   "execution_count": 2,
   "metadata": {},
   "outputs": [
    {
     "data": {
      "text/plain": [
       "[]"
      ]
     },
     "execution_count": 2,
     "metadata": {},
     "output_type": "execute_result"
    }
   ],
   "source": [
    "list(zip())"
   ]
  },
  {
   "cell_type": "markdown",
   "metadata": {},
   "source": [
    "With no arguments, the `zip()` function returns an empty list (after converting to a list, of course)"
   ]
  },
  {
   "cell_type": "markdown",
   "metadata": {},
   "source": [
    "### Example 1.2 (Zip with One Argument):"
   ]
  },
  {
   "cell_type": "code",
   "execution_count": 3,
   "metadata": {},
   "outputs": [],
   "source": [
    "my_list = [1,2,3]"
   ]
  },
  {
   "cell_type": "code",
   "execution_count": 4,
   "metadata": {},
   "outputs": [
    {
     "data": {
      "text/plain": [
       "<zip at 0x10c717b48>"
      ]
     },
     "execution_count": 4,
     "metadata": {},
     "output_type": "execute_result"
    }
   ],
   "source": [
    "zip(my_list)"
   ]
  },
  {
   "cell_type": "code",
   "execution_count": 5,
   "metadata": {},
   "outputs": [
    {
     "data": {
      "text/plain": [
       "[(1,), (2,), (3,)]"
      ]
     },
     "execution_count": 5,
     "metadata": {},
     "output_type": "execute_result"
    }
   ],
   "source": [
    "list(zip(my_list))"
   ]
  },
  {
   "cell_type": "markdown",
   "metadata": {},
   "source": [
    "With 1 argument, the `zip()` function returns a list of `1-tuples` (after converting to a list, of course)"
   ]
  },
  {
   "cell_type": "markdown",
   "metadata": {},
   "source": [
    "### Example 1.3 (Zip with Multiple Arguments of the Same Length):"
   ]
  },
  {
   "cell_type": "code",
   "execution_count": 19,
   "metadata": {},
   "outputs": [],
   "source": [
    "my_list_1 = [1,2,3]\n",
    "my_list_2 = [4,5,6]"
   ]
  },
  {
   "cell_type": "code",
   "execution_count": 22,
   "metadata": {},
   "outputs": [
    {
     "data": {
      "text/plain": [
       "<zip at 0x10c755408>"
      ]
     },
     "execution_count": 22,
     "metadata": {},
     "output_type": "execute_result"
    }
   ],
   "source": [
    "zip(my_list_1, my_list_2)"
   ]
  },
  {
   "cell_type": "code",
   "execution_count": 24,
   "metadata": {},
   "outputs": [
    {
     "data": {
      "text/plain": [
       "[(1, 4), (2, 5), (3, 6)]"
      ]
     },
     "execution_count": 24,
     "metadata": {},
     "output_type": "execute_result"
    }
   ],
   "source": [
    "list(zip(my_list_1, my_list_2))"
   ]
  },
  {
   "cell_type": "markdown",
   "metadata": {},
   "source": [
    "- With 2 arguments, the `zip()` function returns a list of `2-tuples` (after converting to a list, of course)\n",
    "- Notice the `2-tuple` at position `0` contains the 0th element of `my_list_1` and the 0th element of `my_list_2` \n",
    "- Notice the `2-tuple` at position `1` contains the 1st element of `my_list_1` and the 1st element of `my_list_2` \n",
    "- Notice the `2-tuple` at position `2` contains the 2nd element of `my_list_1` and the 2nd element of `my_list_2` "
   ]
  },
  {
   "cell_type": "markdown",
   "metadata": {},
   "source": [
    "### Example 1.4 (Zip with Multiple Argument of Different Lengths):"
   ]
  },
  {
   "cell_type": "code",
   "execution_count": 25,
   "metadata": {},
   "outputs": [],
   "source": [
    "my_list_1 = [1,2,3]\n",
    "my_list_2 = [4,5,6]\n",
    "my_list_3 = [7,8,9,10]"
   ]
  },
  {
   "cell_type": "code",
   "execution_count": 26,
   "metadata": {},
   "outputs": [
    {
     "data": {
      "text/plain": [
       "<zip at 0x10c65b848>"
      ]
     },
     "execution_count": 26,
     "metadata": {},
     "output_type": "execute_result"
    }
   ],
   "source": [
    "zip(my_list_1, my_list_2, my_list_3)"
   ]
  },
  {
   "cell_type": "code",
   "execution_count": 27,
   "metadata": {},
   "outputs": [
    {
     "data": {
      "text/plain": [
       "[(1, 4, 7), (2, 5, 8), (3, 6, 9)]"
      ]
     },
     "execution_count": 27,
     "metadata": {},
     "output_type": "execute_result"
    }
   ],
   "source": [
    "list(zip(my_list_1, my_list_2, my_list_3))"
   ]
  },
  {
   "cell_type": "code",
   "execution_count": 28,
   "metadata": {},
   "outputs": [
    {
     "data": {
      "text/plain": [
       "3"
      ]
     },
     "execution_count": 28,
     "metadata": {},
     "output_type": "execute_result"
    }
   ],
   "source": [
    "len(list(zip(my_list_1, my_list_2, my_list_3)))"
   ]
  },
  {
   "cell_type": "markdown",
   "metadata": {},
   "source": [
    "- With 3 arguments, the `zip()` function returns a list of `3-tuples` (after converting to a list, of course)\n",
    "- Notice the `3-tuple` at position `0` contains the 0th element of `my_list_1`, 0th element of `my_list_2` and the 0th element of `my_list_3`\n",
    "- Notice the `3-tuple` at position `1` contains the 1st element of `my_list_1`, 1st element of `my_list_2` and the 1st element of `my_list_3` \n",
    "- Notice the `3-tuple` at position `2` contains the 2nd element of `my_list_1`, 2nd element of `my_list_2` and the 2nd element of `my_list_3` \n",
    "- Notice the resulting `list` is of length 3 since that is the length of the shortest sequence that was passed in and the 3rd element of `my_list_3` gets truncated "
   ]
  },
  {
   "cell_type": "markdown",
   "metadata": {},
   "source": [
    "### Part 2 (Unzipping)"
   ]
  },
  {
   "cell_type": "markdown",
   "metadata": {},
   "source": [
    "### Example 2.1 (Unzipping Example 1.2 above):"
   ]
  },
  {
   "cell_type": "code",
   "execution_count": 29,
   "metadata": {},
   "outputs": [
    {
     "name": "stdout",
     "output_type": "stream",
     "text": [
      "[(1,), (2,), (3,)]\n"
     ]
    }
   ],
   "source": [
    "my_list = [1,2,3]\n",
    "my_list_zip = list(zip(my_list))\n",
    "print(my_list_zip)"
   ]
  },
  {
   "cell_type": "code",
   "execution_count": 30,
   "metadata": {},
   "outputs": [
    {
     "name": "stdout",
     "output_type": "stream",
     "text": [
      "[(1, 2, 3)]\n"
     ]
    }
   ],
   "source": [
    "a = list(zip(*my_list_zip)) # this is actually unpacking at work \n",
    "print(a)"
   ]
  },
  {
   "cell_type": "markdown",
   "metadata": {},
   "source": [
    "### Example 2.2 (Unzipping Example 1.3 above):"
   ]
  },
  {
   "cell_type": "code",
   "execution_count": 31,
   "metadata": {},
   "outputs": [
    {
     "name": "stdout",
     "output_type": "stream",
     "text": [
      "[(1, 4), (2, 5), (3, 6)]\n"
     ]
    }
   ],
   "source": [
    "my_list_1 = [1,2,3]\n",
    "my_list_2 = [4,5,6]\n",
    "my_list_zip = list(zip(my_list_1, my_list_2))\n",
    "print(my_list_zip)"
   ]
  },
  {
   "cell_type": "code",
   "execution_count": 32,
   "metadata": {},
   "outputs": [
    {
     "name": "stdout",
     "output_type": "stream",
     "text": [
      "The unzipped tuple is (1, 2, 3) and the original list was [1, 2, 3], therefore the equality with original list is True\n",
      "The unzipped tuple is (4, 5, 6) and the original list was [4, 5, 6], therefore the equality with original list is True\n"
     ]
    }
   ],
   "source": [
    "a, b = list(zip(*my_list_zip))\n",
    "print(\"The unzipped tuple is {} and the original list was {}, therefore the equality with original list is {}\".format(a, my_list_1, my_list_1 == list(a)))\n",
    "print(\"The unzipped tuple is {} and the original list was {}, therefore the equality with original list is {}\".format(b, my_list_2, my_list_2 == list(b)))"
   ]
  },
  {
   "cell_type": "markdown",
   "metadata": {},
   "source": [
    "### Example 2.3 (Unzipping Example 1.4 above):"
   ]
  },
  {
   "cell_type": "code",
   "execution_count": 33,
   "metadata": {},
   "outputs": [
    {
     "name": "stdout",
     "output_type": "stream",
     "text": [
      "[(1, 4, 7), (2, 5, 8), (3, 6, 9)]\n"
     ]
    }
   ],
   "source": [
    "my_list_1 = [1,2,3]\n",
    "my_list_2 = [4,5,6]\n",
    "my_list_3 = [7,8,9,10]\n",
    "my_list_zip = list(zip(my_list_1, my_list_2, my_list_3))\n",
    "print(my_list_zip)"
   ]
  },
  {
   "cell_type": "code",
   "execution_count": 34,
   "metadata": {},
   "outputs": [
    {
     "name": "stdout",
     "output_type": "stream",
     "text": [
      "The unzipped tuple is (1, 2, 3) and the original list was [1, 2, 3], therefore the equality with original list is True\n",
      "The unzipped tuple is (4, 5, 6) and the original list was [4, 5, 6], therefore the equality with original list is True\n",
      "The unzipped tuple is (7, 8, 9) and the original list was [7, 8, 9, 10], therefore the equality with original list is False\n"
     ]
    }
   ],
   "source": [
    "a, b, c = list(zip(*my_list_zip))\n",
    "print(\"The unzipped tuple is {} and the original list was {}, therefore the equality with original list is {}\".format(a, my_list_1, my_list_1 == list(a)))\n",
    "print(\"The unzipped tuple is {} and the original list was {}, therefore the equality with original list is {}\".format(b, my_list_2, my_list_2 == list(b)))\n",
    "print(\"The unzipped tuple is {} and the original list was {}, therefore the equality with original list is {}\".format(c, my_list_3, my_list_3 == list(c)))"
   ]
  },
  {
   "cell_type": "markdown",
   "metadata": {},
   "source": [
    "The last check for the third unzipped tuple is `False` since the list was truncated when zipping due to the inequality of lengths "
   ]
  },
  {
   "cell_type": "markdown",
   "metadata": {},
   "source": [
    "### Part 3 (Zipping in `for` loops):\n",
    "\n",
    "- If we need to iterate over multiple sequences, there is a way (albeit, messy) way to do it using the skills learned up to this point\n",
    "- However, zipping makes this much cleaner and concise "
   ]
  },
  {
   "cell_type": "markdown",
   "metadata": {},
   "source": [
    "### Example 3.1 (Iterating Multiple Sequence - Method 1):"
   ]
  },
  {
   "cell_type": "code",
   "execution_count": 37,
   "metadata": {},
   "outputs": [],
   "source": [
    "city = [\"Chicago\", \"Seattle\", \"New York City\"]\n",
    "state = [\"Illinois\", \"Washington\", \"New York\"]\n",
    "employee = [\"Clark\", \"Bruce\", \"Paul\"]"
   ]
  },
  {
   "cell_type": "code",
   "execution_count": 38,
   "metadata": {},
   "outputs": [
    {
     "name": "stdout",
     "output_type": "stream",
     "text": [
      "Clark works in Chicago, Illinois\n",
      "Bruce works in Seattle, Washington\n",
      "Paul works in New York City, New York\n"
     ]
    }
   ],
   "source": [
    "# loop through multiple sequences without zipping\n",
    "for i in range(len(city)):\n",
    "    print(\"{} works in {}, {}\".format(employee[i], city[i], state[i]))"
   ]
  },
  {
   "cell_type": "markdown",
   "metadata": {},
   "source": [
    "### Example 3.2 (Iterating Multiple Sequnces - Method 2):"
   ]
  },
  {
   "cell_type": "code",
   "execution_count": 39,
   "metadata": {},
   "outputs": [],
   "source": [
    "employee = [\"Clark\", \"Bruce\", \"Paul\"]\n",
    "city = [\"Chicago\", \"Seattle\", \"New York City\"]\n",
    "state = [\"Illinois\", \"Washington\", \"New York\"]"
   ]
  },
  {
   "cell_type": "code",
   "execution_count": 40,
   "metadata": {},
   "outputs": [
    {
     "name": "stdout",
     "output_type": "stream",
     "text": [
      "Clark works in Chicago, Illinois\n",
      "Bruce works in Seattle, Washington\n",
      "Paul works in New York City, New York\n"
     ]
    }
   ],
   "source": [
    "# loop through multiple sequences with zipping \n",
    "for employee, city, state in zip(employee, city, state):\n",
    "    print(\"{} works in {}, {}\".format(employee, city, state))"
   ]
  },
  {
   "cell_type": "markdown",
   "metadata": {},
   "source": [
    "Why does this work in the way we want? See below"
   ]
  },
  {
   "cell_type": "code",
   "execution_count": 41,
   "metadata": {},
   "outputs": [],
   "source": [
    "city = [\"Chicago\", \"Seattle\", \"New York City\"]\n",
    "state = [\"Illinois\", \"Washington\", \"New York\"]\n",
    "employee = [\"Clark\", \"Bruce\", \"Paul\"]"
   ]
  },
  {
   "cell_type": "code",
   "execution_count": 46,
   "metadata": {},
   "outputs": [
    {
     "name": "stdout",
     "output_type": "stream",
     "text": [
      "('Clark', 'Bruce', 'Paul')\n",
      "('Chicago', 'Seattle', 'New York City')\n",
      "('Illinois', 'Washington', 'New York')\n"
     ]
    }
   ],
   "source": [
    "employee, city, state = zip(employee, city, state)\n",
    "print(employee)\n",
    "print(city)\n",
    "print(state)"
   ]
  },
  {
   "cell_type": "code",
   "execution_count": 48,
   "metadata": {},
   "outputs": [
    {
     "name": "stdout",
     "output_type": "stream",
     "text": [
      "('Clark', 'Chicago', 'Illinois')\n",
      "('Bruce', 'Seattle', 'Washington')\n",
      "('Paul', 'New York City', 'New York')\n"
     ]
    }
   ],
   "source": [
    "# NOTE: run the above lines, without re-initializing the variables city, state and employee \n",
    "employee, city, state = zip(employee, city, state)\n",
    "print(employee)\n",
    "print(city)\n",
    "print(state)"
   ]
  },
  {
   "cell_type": "markdown",
   "metadata": {},
   "source": [
    "We see that by zipping twice is basically like unzipping (we get back the original sequences, albeit not in `list` form."
   ]
  },
  {
   "cell_type": "code",
   "execution_count": null,
   "metadata": {},
   "outputs": [],
   "source": []
  }
 ],
 "metadata": {
  "kernelspec": {
   "display_name": "Python 3",
   "language": "python",
   "name": "python3"
  },
  "language_info": {
   "codemirror_mode": {
    "name": "ipython",
    "version": 3
   },
   "file_extension": ".py",
   "mimetype": "text/x-python",
   "name": "python",
   "nbconvert_exporter": "python",
   "pygments_lexer": "ipython3",
   "version": "3.6.8"
  }
 },
 "nbformat": 4,
 "nbformat_minor": 2
}
