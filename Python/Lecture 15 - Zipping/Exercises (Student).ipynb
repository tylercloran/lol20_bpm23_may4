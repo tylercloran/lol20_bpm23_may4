{
 "cells": [
  {
   "cell_type": "markdown",
   "metadata": {},
   "source": [
    "# Exercises: Zipping and Unzipping"
   ]
  },
  {
   "cell_type": "markdown",
   "metadata": {},
   "source": [
    "## Size of small zipped objects\n",
    "- Create two lists, one containing the characters 'a', 'b', 'c', and one containing the numbers 1, 2, 3. \n",
    "- Zip these two lists together.\n",
    "- What is the type of this zipped variable?\n",
    "- What is its size in bytes?\n",
    "- What are the sizes of the lists of characters and numbers?"
   ]
  },
  {
   "cell_type": "code",
   "execution_count": null,
   "metadata": {
    "ExecuteTime": {
     "end_time": "2019-11-03T05:30:36.589601Z",
     "start_time": "2019-11-03T05:30:36.574449Z"
    }
   },
   "outputs": [],
   "source": [
    "from sys import getsizeof\n",
    "\n"
   ]
  },
  {
   "cell_type": "markdown",
   "metadata": {},
   "source": [
    "## Size of large zipped objects\n",
    "- Create a list containing the numbers from 0 to 100,000.\n",
    "- Create a list containing the numbers from 100,000 to 200,000.\n",
    "- Zip these two lists together.\n",
    "- (Do not overwrite the previous lists or zip.)\n",
    "- (If you use range() to create these lists -- which is highly recommended -- be sure to convert the ranges into lists before zipping.)\n",
    "- What is its size of this zipped variable in bytes?\n",
    "- What are the sizes of the lists of characters and numbers?"
   ]
  },
  {
   "cell_type": "code",
   "execution_count": null,
   "metadata": {
    "ExecuteTime": {
     "end_time": "2019-11-03T05:30:47.263222Z",
     "start_time": "2019-11-03T05:30:47.251415Z"
    }
   },
   "outputs": [],
   "source": []
  },
  {
   "cell_type": "markdown",
   "metadata": {
    "ExecuteTime": {
     "end_time": "2019-11-03T04:37:48.147901Z",
     "start_time": "2019-11-03T04:37:48.138709Z"
    }
   },
   "source": [
    "## What is a `zip` object?\n",
    "\n",
    "- How large is the second zip compared to the first one?\n",
    "- How many items are in each zip?\n",
    "- What's going on here?"
   ]
  },
  {
   "cell_type": "markdown",
   "metadata": {
    "ExecuteTime": {
     "end_time": "2019-11-03T04:46:51.104942Z",
     "start_time": "2019-11-03T04:46:51.086563Z"
    }
   },
   "source": [
    "_Your answer here._"
   ]
  },
  {
   "cell_type": "markdown",
   "metadata": {},
   "source": [
    "## Size of unzipped objects\n",
    "- Re-run the cells that created your `zip` objects to make sure they are in their original state.\n",
    "- Unzip your two zip objects into lists.\n",
    "- What is the size (in bytes) of the first list?\n",
    "- What is the size (in bytes) of the second list?"
   ]
  },
  {
   "cell_type": "code",
   "execution_count": null,
   "metadata": {
    "ExecuteTime": {
     "end_time": "2019-11-03T05:30:51.391665Z",
     "start_time": "2019-11-03T05:30:51.371826Z"
    }
   },
   "outputs": [],
   "source": []
  },
  {
   "cell_type": "markdown",
   "metadata": {},
   "source": [
    "## Unzip them again\n",
    "- Unzip your two zip objects into two new lists.\n",
    "- What is the size of these new lists?\n",
    "- What's going on now?"
   ]
  },
  {
   "cell_type": "code",
   "execution_count": null,
   "metadata": {
    "ExecuteTime": {
     "end_time": "2019-11-03T05:31:51.210904Z",
     "start_time": "2019-11-03T05:31:51.205937Z"
    }
   },
   "outputs": [],
   "source": []
  },
  {
   "cell_type": "markdown",
   "metadata": {},
   "source": [
    "_Your answer here._"
   ]
  },
  {
   "cell_type": "markdown",
   "metadata": {},
   "source": [
    "## `zip` Party Tricks\n",
    "\n",
    "Let's explore some weirdness with `zip` objects.\n",
    "\n",
    "- Create a list with a mix of strings and integers. Call it `random_list_1`.\n",
    "- Create another list, `random_list_2` with a different number of objects of any type.\n",
    "- Create a new list, `temp_list_1`, consisting of `random_list_1` and three other objects.\n",
    "- Create a new lists, `temp_list_2`, consisting of `random_list_2` and three other objects.\n",
    "- What is the length of `temp_list_1`? of `temp_list_2`?\n",
    "- Zip `temp_list_1` and `temp_list_2` into a zip object called `zip_missing`.\n",
    "- Delete `temp_list_1` and `temp_list_2`.\n",
    "- What do you expect to happen if you unzip `zip_missing`?\n",
    "- What do you get when you unzip `zip_missing` into a list called `ta_daaa`?\n",
    "- What values are currently in `temp_list_1` and `temp_list_2`?\n",
    "- What values are currently in `random_list_1` and `random_list_2`?\n",
    "- Unzip `zip_missing` into a list called `oops`... what values does `oops` contain?"
   ]
  },
  {
   "cell_type": "code",
   "execution_count": null,
   "metadata": {
    "ExecuteTime": {
     "end_time": "2019-11-03T05:45:48.938194Z",
     "start_time": "2019-11-03T05:45:48.925650Z"
    }
   },
   "outputs": [],
   "source": []
  },
  {
   "cell_type": "markdown",
   "metadata": {
    "ExecuteTime": {
     "end_time": "2019-11-03T05:22:57.395627Z",
     "start_time": "2019-11-03T05:22:57.389823Z"
    }
   },
   "source": [
    "_Your expectation here._"
   ]
  },
  {
   "cell_type": "code",
   "execution_count": null,
   "metadata": {
    "ExecuteTime": {
     "end_time": "2019-11-03T05:45:53.220419Z",
     "start_time": "2019-11-03T05:45:53.212154Z"
    }
   },
   "outputs": [],
   "source": []
  },
  {
   "cell_type": "code",
   "execution_count": null,
   "metadata": {
    "ExecuteTime": {
     "end_time": "2019-11-03T05:46:05.913558Z",
     "start_time": "2019-11-03T05:46:05.893923Z"
    }
   },
   "outputs": [],
   "source": []
  },
  {
   "cell_type": "code",
   "execution_count": null,
   "metadata": {
    "ExecuteTime": {
     "end_time": "2019-11-03T05:46:38.684400Z",
     "start_time": "2019-11-03T05:46:38.675057Z"
    }
   },
   "outputs": [],
   "source": []
  },
  {
   "cell_type": "code",
   "execution_count": null,
   "metadata": {
    "ExecuteTime": {
     "end_time": "2019-11-03T05:47:02.686021Z",
     "start_time": "2019-11-03T05:47:02.679760Z"
    }
   },
   "outputs": [],
   "source": []
  },
  {
   "cell_type": "markdown",
   "metadata": {},
   "source": [
    "## Triple zips and for loops\n",
    "\n",
    "The main cast of the original Avengers team is:\n",
    "- Robert Downey Jr. as Iron Man\n",
    "- Chris Evans as Captain America\n",
    "- Mark Ruffalo as The Hulk\n",
    "- Chris Hemsworth as Thor\n",
    "- Scarlett Johansson as Black Widow\n",
    "- Jeremy Renner as Hawkeye\n",
    "\n",
    "Create three lists, one with the actors' first names, one with their last names (use Downey Jr. for Robert's last name), and one with the super hero names. Use a zip expression inside a for loop expression to print the string `In the Avengers movies, {Avenger} is played by {first name} {last name}.` for each member of the team."
   ]
  },
  {
   "cell_type": "code",
   "execution_count": null,
   "metadata": {
    "ExecuteTime": {
     "end_time": "2019-11-03T05:56:16.387024Z",
     "start_time": "2019-11-03T05:56:16.364396Z"
    }
   },
   "outputs": [],
   "source": []
  }
 ],
 "metadata": {
  "kernelspec": {
   "display_name": "Python 3",
   "language": "python",
   "name": "python3"
  },
  "language_info": {
   "codemirror_mode": {
    "name": "ipython",
    "version": 3
   },
   "file_extension": ".py",
   "mimetype": "text/x-python",
   "name": "python",
   "nbconvert_exporter": "python",
   "pygments_lexer": "ipython3",
   "version": "3.6.8"
  },
  "toc": {
   "base_numbering": 1,
   "nav_menu": {},
   "number_sections": true,
   "sideBar": true,
   "skip_h1_title": false,
   "title_cell": "Table of Contents",
   "title_sidebar": "Contents",
   "toc_cell": false,
   "toc_position": {},
   "toc_section_display": true,
   "toc_window_display": false
  }
 },
 "nbformat": 4,
 "nbformat_minor": 2
}
